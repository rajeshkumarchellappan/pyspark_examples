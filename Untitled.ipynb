{
 "cells": [
  {
   "cell_type": "code",
   "execution_count": 1,
   "metadata": {},
   "outputs": [],
   "source": [
    "from pyspark import SparkConf,SparkContext\n",
    "conf=SparkConf().setMaster('local').setAppName('Maximumtemp')\n",
    "sc=SparkContext(conf=conf)\n",
    "rdd=sc.textFile('file:///SparkCourse/1800.csv')\n",
    "rdd1=rdd.filter(lambda x:'TMAX' in x)\n"
   ]
  },
  {
   "cell_type": "code",
   "execution_count": 2,
   "metadata": {},
   "outputs": [],
   "source": [
    "rdd2=rdd1.map(lambda x:(x.split(',')[0],float(x.split(',')[3]) * 0.1 * (9.0 / 5.0) + 32.0))\n",
    "#rdd3=rdd2.collect()"
   ]
  },
  {
   "cell_type": "code",
   "execution_count": 3,
   "metadata": {},
   "outputs": [],
   "source": [
    "rdd4=rdd2.reduceByKey(lambda x,y: max(x,y))\n",
    "max_temperature=rdd4.collect()"
   ]
  },
  {
   "cell_type": "code",
   "execution_count": 4,
   "metadata": {},
   "outputs": [
    {
     "name": "stdout",
     "output_type": "stream",
     "text": [
      "ITE00100554\t90.14F\n",
      "EZE00100082\t90.14F\n"
     ]
    }
   ],
   "source": [
    "for max_temp in max_temperature:\n",
    "    print (max_temp[0] + \"\\t{:.2f}F\".format(max_temp[1]))"
   ]
  },
  {
   "cell_type": "code",
   "execution_count": null,
   "metadata": {},
   "outputs": [],
   "source": []
  }
 ],
 "metadata": {
  "kernelspec": {
   "display_name": "Python 3",
   "language": "python",
   "name": "python3"
  },
  "language_info": {
   "codemirror_mode": {
    "name": "ipython",
    "version": 3
   },
   "file_extension": ".py",
   "mimetype": "text/x-python",
   "name": "python",
   "nbconvert_exporter": "python",
   "pygments_lexer": "ipython3",
   "version": "3.7.3"
  }
 },
 "nbformat": 4,
 "nbformat_minor": 2
}
