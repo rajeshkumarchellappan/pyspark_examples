{
 "cells": [
  {
   "cell_type": "code",
   "execution_count": 1,
   "metadata": {},
   "outputs": [],
   "source": [
    "from pyspark import SparkContext,SparkConf\n"
   ]
  },
  {
   "cell_type": "code",
   "execution_count": 2,
   "metadata": {},
   "outputs": [],
   "source": [
    "conf=SparkConf().setMaster('local').setAppName('calculate_expenses')"
   ]
  },
  {
   "cell_type": "code",
   "execution_count": 3,
   "metadata": {},
   "outputs": [],
   "source": [
    "sc=SparkContext(conf=conf)"
   ]
  },
  {
   "cell_type": "code",
   "execution_count": 4,
   "metadata": {},
   "outputs": [],
   "source": [
    "rdd=sc.textFile('file:///SparkCourse/customer-orders.csv')"
   ]
  },
  {
   "cell_type": "code",
   "execution_count": 5,
   "metadata": {},
   "outputs": [],
   "source": [
    "#rdd.collect()"
   ]
  },
  {
   "cell_type": "code",
   "execution_count": 7,
   "metadata": {},
   "outputs": [
    {
     "data": {
      "text/plain": [
       "[('44', '37.19'),\n",
       " ('35', '65.89'),\n",
       " ('2', '40.64'),\n",
       " ('47', '14.98'),\n",
       " ('29', '13.08'),\n",
       " ('91', '24.59'),\n",
       " ('70', '68.68'),\n",
       " ('85', '28.53'),\n",
       " ('53', '83.55'),\n",
       " ('14', '4.32'),\n",
       " ('51', '19.80'),\n",
       " ('42', '57.77'),\n",
       " ('2', '55.77'),\n",
       " ('79', '33.17')]"
      ]
     },
     "execution_count": 7,
     "metadata": {},
     "output_type": "execute_result"
    }
   ],
   "source": [
    "rdd1=rdd.map(lambda x:(x.split(',')[0], x.split(',')[2]))\n",
    "rdd1.take(14)"
   ]
  },
  {
   "cell_type": "code",
   "execution_count": 10,
   "metadata": {},
   "outputs": [],
   "source": [
    "def id_amount(text):\n",
    "    fields=text.split(',')\n",
    "    Id=int(fields[0])\n",
    "    amount=float(fields[2])\n",
    "    return (Id,amount)"
   ]
  },
  {
   "cell_type": "code",
   "execution_count": 11,
   "metadata": {},
   "outputs": [
    {
     "data": {
      "text/plain": [
       "[(44, 37.19),\n",
       " (35, 65.89),\n",
       " (2, 40.64),\n",
       " (47, 14.98),\n",
       " (29, 13.08),\n",
       " (91, 24.59),\n",
       " (70, 68.68),\n",
       " (85, 28.53),\n",
       " (53, 83.55),\n",
       " (14, 4.32),\n",
       " (51, 19.8),\n",
       " (42, 57.77),\n",
       " (2, 55.77),\n",
       " (79, 33.17),\n",
       " (50, 23.57)]"
      ]
     },
     "execution_count": 11,
     "metadata": {},
     "output_type": "execute_result"
    }
   ],
   "source": [
    "rdd5=rdd.map(id_amount)\n",
    "rdd5.take(15)"
   ]
  },
  {
   "cell_type": "code",
   "execution_count": 12,
   "metadata": {},
   "outputs": [
    {
     "name": "stdout",
     "output_type": "stream",
     "text": [
      "44 4756.89\n",
      "35 5155.42\n",
      "2 5994.59\n",
      "47 4316.30\n",
      "29 5032.53\n",
      "91 4642.26\n",
      "70 5368.25\n",
      "85 5503.43\n",
      "53 4945.30\n",
      "14 4735.03\n",
      "51 4975.22\n",
      "42 5696.84\n",
      "79 3790.57\n",
      "50 4517.27\n",
      "20 4836.86\n",
      "15 5413.51\n",
      "5 4561.07\n",
      "48 4384.33\n",
      "31 4765.05\n",
      "4 4815.05\n",
      "36 4278.05\n",
      "57 4628.40\n",
      "12 4664.59\n",
      "22 5019.45\n",
      "54 6065.39\n",
      "0 5524.95\n",
      "88 4830.55\n",
      "86 4908.81\n",
      "13 4367.62\n",
      "40 5186.43\n",
      "98 4297.26\n",
      "55 5298.09\n",
      "95 4876.84\n",
      "61 5497.48\n",
      "27 4915.89\n",
      "78 4524.51\n",
      "83 4635.80\n",
      "6 5397.88\n",
      "26 5250.40\n",
      "75 4178.50\n",
      "25 5057.61\n",
      "71 5995.66\n",
      "39 6193.11\n",
      "60 5040.71\n",
      "97 5977.19\n",
      "7 4755.07\n",
      "21 4707.41\n",
      "69 5123.01\n",
      "37 4735.20\n",
      "1 4958.60\n",
      "64 5288.69\n",
      "82 4812.49\n",
      "72 5337.44\n",
      "99 4172.29\n",
      "34 5330.80\n",
      "73 6206.20\n",
      "49 4394.60\n",
      "8 5517.24\n",
      "46 5963.11\n",
      "23 4042.65\n",
      "19 5059.43\n",
      "65 5140.35\n",
      "80 4727.86\n",
      "16 4979.06\n",
      "9 5322.65\n",
      "18 4921.27\n",
      "59 5642.89\n",
      "74 4647.13\n",
      "30 4990.72\n",
      "56 4701.02\n",
      "90 5290.41\n",
      "68 6375.45\n",
      "11 5152.29\n",
      "10 4819.70\n",
      "41 5637.62\n",
      "58 5437.73\n",
      "87 5206.40\n",
      "17 5032.68\n",
      "33 5254.66\n",
      "62 5253.32\n",
      "92 5379.28\n",
      "76 4904.21\n",
      "66 4681.92\n",
      "43 5368.83\n",
      "52 5245.06\n",
      "77 4327.73\n",
      "81 5112.71\n",
      "84 4652.94\n",
      "3 4659.63\n",
      "93 5265.75\n",
      "89 4851.48\n",
      "45 3309.38\n",
      "24 5259.92\n",
      "96 3924.23\n",
      "67 4505.79\n",
      "63 5415.15\n",
      "94 4475.57\n",
      "32 5496.05\n",
      "38 4898.46\n",
      "28 5000.71\n"
     ]
    }
   ],
   "source": [
    "rdd6=rdd5.reduceByKey(lambda x,y: x+y)\n",
    "for i in rdd6.collect():\n",
    "    print (i[0],'{:.2f}'.format(i[1]))"
   ]
  },
  {
   "cell_type": "code",
   "execution_count": null,
   "metadata": {},
   "outputs": [],
   "source": []
  }
 ],
 "metadata": {
  "kernelspec": {
   "display_name": "Python 3",
   "language": "python",
   "name": "python3"
  },
  "language_info": {
   "codemirror_mode": {
    "name": "ipython",
    "version": 3
   },
   "file_extension": ".py",
   "mimetype": "text/x-python",
   "name": "python",
   "nbconvert_exporter": "python",
   "pygments_lexer": "ipython3",
   "version": "3.7.3"
  }
 },
 "nbformat": 4,
 "nbformat_minor": 2
}
