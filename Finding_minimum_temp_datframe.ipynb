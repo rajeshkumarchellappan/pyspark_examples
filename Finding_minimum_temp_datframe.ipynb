{
 "cells": [
  {
   "cell_type": "code",
   "execution_count": 2,
   "metadata": {},
   "outputs": [],
   "source": [
    "from pyspark.sql import SparkSession"
   ]
  },
  {
   "cell_type": "code",
   "execution_count": 4,
   "metadata": {},
   "outputs": [],
   "source": [
    "from pyspark.sql.types import StructField,StructType,StringType,IntegerType,FloatType"
   ]
  },
  {
   "cell_type": "code",
   "execution_count": 6,
   "metadata": {},
   "outputs": [
    {
     "name": "stdout",
     "output_type": "stream",
     "text": [
      "+-----------+-------------+------------+------+\n",
      "|         ID|Date_of_Birth|Max_Min_temp|  Temp|\n",
      "+-----------+-------------+------------+------+\n",
      "|ITE00100554|     18000101|        TMAX| -75.0|\n",
      "|ITE00100554|     18000101|        TMIN|-148.0|\n",
      "|GM000010962|     18000101|        PRCP|   0.0|\n",
      "|EZE00100082|     18000101|        TMAX| -86.0|\n",
      "|EZE00100082|     18000101|        TMIN|-135.0|\n",
      "|ITE00100554|     18000102|        TMAX| -60.0|\n",
      "|ITE00100554|     18000102|        TMIN|-125.0|\n",
      "|GM000010962|     18000102|        PRCP|   0.0|\n",
      "|EZE00100082|     18000102|        TMAX| -44.0|\n",
      "|EZE00100082|     18000102|        TMIN|-130.0|\n",
      "|ITE00100554|     18000103|        TMAX| -23.0|\n",
      "|ITE00100554|     18000103|        TMIN| -46.0|\n",
      "|GM000010962|     18000103|        PRCP|   4.0|\n",
      "|EZE00100082|     18000103|        TMAX| -10.0|\n",
      "|EZE00100082|     18000103|        TMIN| -73.0|\n",
      "|ITE00100554|     18000104|        TMAX|   0.0|\n",
      "|ITE00100554|     18000104|        TMIN| -13.0|\n",
      "|GM000010962|     18000104|        PRCP|   0.0|\n",
      "|EZE00100082|     18000104|        TMAX| -55.0|\n",
      "|EZE00100082|     18000104|        TMIN| -74.0|\n",
      "+-----------+-------------+------------+------+\n",
      "only showing top 20 rows\n",
      "\n"
     ]
    }
   ],
   "source": [
    "spark=SparkSession.builder.appName('minimum_temp').master('local').getOrCreate()\n",
    "schema=StructType([StructField('ID',StringType(),True),StructField('Date_of_Birth',IntegerType(),True),StructField('Max_Min_temp',StringType(),True),StructField('Temp',FloatType(),True)])\n",
    "df=spark.read.csv(path=\"file:///SparkCourse/1800.csv\",schema=schema)\n",
    "df.show()"
   ]
  },
  {
   "cell_type": "code",
   "execution_count": 28,
   "metadata": {},
   "outputs": [],
   "source": [
    "df44=df.filter(df.Max_Min_temp=='TMIN')\n",
    "#df44.Temp=df44.Temp * 0.1 * (9.0 / 5.0) + 32.0\n",
    "df441=df44.select('ID','Temp')\n",
    "df4411=df441.groupBy('ID').min('Temp')"
   ]
  },
  {
   "cell_type": "code",
   "execution_count": 29,
   "metadata": {},
   "outputs": [],
   "source": [
    "#df4411.min(Temp)=float(df4411.min(Temp)) * 0.1 * (9.0 / 5.0) + 32.0"
   ]
  },
  {
   "cell_type": "code",
   "execution_count": 30,
   "metadata": {},
   "outputs": [],
   "source": [
    "from pyspark.sql import functions as func"
   ]
  },
  {
   "cell_type": "code",
   "execution_count": 31,
   "metadata": {},
   "outputs": [],
   "source": [
    "df234=df4411.withColumn('Temp',func.round(func.col(\"min(temp)\") * 0.1 * (9.0 / 5.0) + 32.0, 2)).select(\"ID\", \"temp\").sort(\"temp\")"
   ]
  },
  {
   "cell_type": "code",
   "execution_count": 54,
   "metadata": {},
   "outputs": [],
   "source": [
    "df2341=df4411.withColumn('min(temp)',func.round(func.col('min(temp)')* 0.1 * (9.0 / 5.0) + 32.0,2))#.select(\"ID\", \"temp\").sort(\"temp)"
   ]
  },
  {
   "cell_type": "code",
   "execution_count": 55,
   "metadata": {},
   "outputs": [
    {
     "name": "stdout",
     "output_type": "stream",
     "text": [
      "+-----------+---------+\n",
      "|         ID|min(temp)|\n",
      "+-----------+---------+\n",
      "|ITE00100554|     5.36|\n",
      "|EZE00100082|      7.7|\n",
      "+-----------+---------+\n",
      "\n"
     ]
    }
   ],
   "source": [
    "df2341.show()"
   ]
  },
  {
   "cell_type": "code",
   "execution_count": 56,
   "metadata": {},
   "outputs": [
    {
     "name": "stdout",
     "output_type": "stream",
     "text": [
      "+-----------+----+\n",
      "|         ID|temp|\n",
      "+-----------+----+\n",
      "|ITE00100554|5.36|\n",
      "|EZE00100082| 7.7|\n",
      "+-----------+----+\n",
      "\n"
     ]
    }
   ],
   "source": [
    "df234.show()"
   ]
  },
  {
   "cell_type": "code",
   "execution_count": 57,
   "metadata": {},
   "outputs": [
    {
     "data": {
      "text/plain": [
       "[Row(ID='ITE00100554', temp=5.36), Row(ID='EZE00100082', temp=7.7)]"
      ]
     },
     "execution_count": 57,
     "metadata": {},
     "output_type": "execute_result"
    }
   ],
   "source": [
    "df234.collect()"
   ]
  },
  {
   "cell_type": "code",
   "execution_count": 61,
   "metadata": {},
   "outputs": [
    {
     "name": "stdout",
     "output_type": "stream",
     "text": [
      "ITE00100554 5.36F\n",
      "EZE00100082 7.7F\n"
     ]
    }
   ],
   "source": [
    "for tem in df234.collect():\n",
    "    print(tem[0],str(tem[1])+'F')"
   ]
  },
  {
   "cell_type": "code",
   "execution_count": null,
   "metadata": {},
   "outputs": [],
   "source": []
  }
 ],
 "metadata": {
  "kernelspec": {
   "display_name": "Python 3",
   "language": "python",
   "name": "python3"
  },
  "language_info": {
   "codemirror_mode": {
    "name": "ipython",
    "version": 3
   },
   "file_extension": ".py",
   "mimetype": "text/x-python",
   "name": "python",
   "nbconvert_exporter": "python",
   "pygments_lexer": "ipython3",
   "version": "3.7.3"
  }
 },
 "nbformat": 4,
 "nbformat_minor": 2
}
